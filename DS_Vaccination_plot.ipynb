{
 "cells": [
  {
   "cell_type": "code",
   "execution_count": 111,
   "metadata": {},
   "outputs": [],
   "source": [
    "import pandas as pd"
   ]
  },
  {
   "cell_type": "code",
   "execution_count": 112,
   "metadata": {},
   "outputs": [],
   "source": [
    "data = pd.read_csv('./data/vaccinationbycountry.csv')"
   ]
  },
  {
   "cell_type": "code",
   "execution_count": 113,
   "metadata": {
    "scrolled": true
   },
   "outputs": [
    {
     "data": {
      "text/plain": [
       "0   2021-01-10\n",
       "1   2021-01-11\n",
       "2   2021-01-12\n",
       "3   2021-01-13\n",
       "4   2021-01-14\n",
       "Name: date, dtype: datetime64[ns]"
      ]
     },
     "execution_count": 113,
     "metadata": {},
     "output_type": "execute_result"
    }
   ],
   "source": [
    "# change date column to datetime type to get access to datetime functions\n",
    "data['date'] = pd.to_datetime(data.date, dayfirst= True)\n",
    "data['date'].head(5)"
   ]
  },
  {
   "cell_type": "code",
   "execution_count": 114,
   "metadata": {
    "scrolled": false
   },
   "outputs": [],
   "source": [
    "# date range 20-01-2021 to 03-02-2021\n",
    "startdate, enddate = [pd.to_datetime('20/01/2021'),pd.to_datetime('3/2/2021',dayfirst=True)]\n",
    "\n",
    "# return dataframe in the range of start and end date\n",
    "data = data.loc[(data['date']>=startdate)&(data['date']<=enddate)]\n",
    "\n",
    "# assign the data frame to data\n",
    "# data = data_in_range\n"
   ]
  },
  {
   "cell_type": "code",
   "execution_count": 115,
   "metadata": {},
   "outputs": [],
   "source": [
    "UK = [\"United Kingdom\",\"UK\", \"United_Kindom\", \"England\", \"Scotland\",\"Wales\", \"Northern Ireland\"]\n",
    "US = [\"United States\",\"United State\",\"United_States\", \"US\"]\n",
    "countries = UK+US+[\"Norway\",\"China\",\"Australia\"]\n",
    "\n",
    "# filter data of required countries only\n",
    "data = data.loc[data['country'].isin(countries)]\n",
    "\n",
    "# filtered_data.info\n"
   ]
  },
  {
   "cell_type": "code",
   "execution_count": 150,
   "metadata": {},
   "outputs": [],
   "source": [
    "# rename UK countries in country column to United Kingdom\n",
    "uk_data = data.loc[data['country'].isin(UK)]\n",
    "uk_data.loc[0:,'country'] = 'United Kingdom'\n",
    "# uk_data.country.values\n"
   ]
  },
  {
   "cell_type": "code",
   "execution_count": 151,
   "metadata": {},
   "outputs": [
    {
     "data": {
      "text/plain": [
       "array(['United States', 'United States', 'United States', 'United States',\n",
       "       'United States', 'United States', 'United States', 'United States',\n",
       "       'United States', 'United States', 'United States', 'United States',\n",
       "       'United States', 'United States', 'United States'], dtype=object)"
      ]
     },
     "execution_count": 151,
     "metadata": {},
     "output_type": "execute_result"
    }
   ],
   "source": [
    "# rename UK countries in country column to United Kingdom\n",
    "us_data = data.loc[data['country'].isin(US)]\n",
    "us_data.loc[0:,'country'] = 'United States'\n",
    "# us_data.country.values"
   ]
  },
  {
   "cell_type": "code",
   "execution_count": 163,
   "metadata": {},
   "outputs": [
    {
     "data": {
      "text/html": [
       "<div>\n",
       "<style scoped>\n",
       "    .dataframe tbody tr th:only-of-type {\n",
       "        vertical-align: middle;\n",
       "    }\n",
       "\n",
       "    .dataframe tbody tr th {\n",
       "        vertical-align: top;\n",
       "    }\n",
       "\n",
       "    .dataframe thead th {\n",
       "        text-align: right;\n",
       "    }\n",
       "</style>\n",
       "<table border=\"1\" class=\"dataframe\">\n",
       "  <thead>\n",
       "    <tr style=\"text-align: right;\">\n",
       "      <th></th>\n",
       "      <th>country</th>\n",
       "      <th>iso_code</th>\n",
       "      <th>date</th>\n",
       "      <th>total_vaccinations</th>\n",
       "      <th>people_vaccinated</th>\n",
       "      <th>people_fully_vaccinated</th>\n",
       "      <th>daily_vaccinations_raw</th>\n",
       "      <th>daily_vaccinations</th>\n",
       "      <th>total_vaccinations_per_hundred</th>\n",
       "      <th>people_vaccinated_per_hundred</th>\n",
       "      <th>people_fully_vaccinated_per_hundred</th>\n",
       "      <th>daily_vaccinations_per_million</th>\n",
       "      <th>vaccines</th>\n",
       "      <th>source_name</th>\n",
       "      <th>source_website</th>\n",
       "    </tr>\n",
       "  </thead>\n",
       "  <tbody>\n",
       "    <tr>\n",
       "      <th>4125</th>\n",
       "      <td>Norway</td>\n",
       "      <td>NOR</td>\n",
       "      <td>2021-01-20</td>\n",
       "      <td>69118.0</td>\n",
       "      <td>67365.0</td>\n",
       "      <td>1753.0</td>\n",
       "      <td>10737.0</td>\n",
       "      <td>4528.0</td>\n",
       "      <td>1.27</td>\n",
       "      <td>1.24</td>\n",
       "      <td>0.03</td>\n",
       "      <td>835.0</td>\n",
       "      <td>Moderna, Oxford/AstraZeneca, Pfizer/BioNTech</td>\n",
       "      <td>Norwegian Institute of Public Health</td>\n",
       "      <td>https://www.fhi.no/sv/vaksine/koronavaksinasjo...</td>\n",
       "    </tr>\n",
       "    <tr>\n",
       "      <th>4126</th>\n",
       "      <td>Norway</td>\n",
       "      <td>NOR</td>\n",
       "      <td>2021-01-21</td>\n",
       "      <td>77714.0</td>\n",
       "      <td>75793.0</td>\n",
       "      <td>1921.0</td>\n",
       "      <td>8596.0</td>\n",
       "      <td>4546.0</td>\n",
       "      <td>1.43</td>\n",
       "      <td>1.40</td>\n",
       "      <td>0.04</td>\n",
       "      <td>839.0</td>\n",
       "      <td>Moderna, Oxford/AstraZeneca, Pfizer/BioNTech</td>\n",
       "      <td>Norwegian Institute of Public Health</td>\n",
       "      <td>https://www.fhi.no/sv/vaksine/koronavaksinasjo...</td>\n",
       "    </tr>\n",
       "    <tr>\n",
       "      <th>4127</th>\n",
       "      <td>Norway</td>\n",
       "      <td>NOR</td>\n",
       "      <td>2021-01-22</td>\n",
       "      <td>81034.0</td>\n",
       "      <td>79106.0</td>\n",
       "      <td>1928.0</td>\n",
       "      <td>3320.0</td>\n",
       "      <td>4382.0</td>\n",
       "      <td>1.49</td>\n",
       "      <td>1.46</td>\n",
       "      <td>0.04</td>\n",
       "      <td>808.0</td>\n",
       "      <td>Moderna, Oxford/AstraZeneca, Pfizer/BioNTech</td>\n",
       "      <td>Norwegian Institute of Public Health</td>\n",
       "      <td>https://www.fhi.no/sv/vaksine/koronavaksinasjo...</td>\n",
       "    </tr>\n",
       "    <tr>\n",
       "      <th>4128</th>\n",
       "      <td>Norway</td>\n",
       "      <td>NOR</td>\n",
       "      <td>2021-01-23</td>\n",
       "      <td>81393.0</td>\n",
       "      <td>79465.0</td>\n",
       "      <td>1928.0</td>\n",
       "      <td>359.0</td>\n",
       "      <td>4326.0</td>\n",
       "      <td>1.50</td>\n",
       "      <td>1.47</td>\n",
       "      <td>0.04</td>\n",
       "      <td>798.0</td>\n",
       "      <td>Moderna, Oxford/AstraZeneca, Pfizer/BioNTech</td>\n",
       "      <td>Norwegian Institute of Public Health</td>\n",
       "      <td>https://www.fhi.no/sv/vaksine/koronavaksinasjo...</td>\n",
       "    </tr>\n",
       "    <tr>\n",
       "      <th>4129</th>\n",
       "      <td>Norway</td>\n",
       "      <td>NOR</td>\n",
       "      <td>2021-01-24</td>\n",
       "      <td>81460.0</td>\n",
       "      <td>79532.0</td>\n",
       "      <td>1928.0</td>\n",
       "      <td>67.0</td>\n",
       "      <td>4286.0</td>\n",
       "      <td>1.50</td>\n",
       "      <td>1.47</td>\n",
       "      <td>0.04</td>\n",
       "      <td>791.0</td>\n",
       "      <td>Moderna, Oxford/AstraZeneca, Pfizer/BioNTech</td>\n",
       "      <td>Norwegian Institute of Public Health</td>\n",
       "      <td>https://www.fhi.no/sv/vaksine/koronavaksinasjo...</td>\n",
       "    </tr>\n",
       "  </tbody>\n",
       "</table>\n",
       "</div>"
      ],
      "text/plain": [
       "     country iso_code       date  total_vaccinations  people_vaccinated  \\\n",
       "4125  Norway      NOR 2021-01-20             69118.0            67365.0   \n",
       "4126  Norway      NOR 2021-01-21             77714.0            75793.0   \n",
       "4127  Norway      NOR 2021-01-22             81034.0            79106.0   \n",
       "4128  Norway      NOR 2021-01-23             81393.0            79465.0   \n",
       "4129  Norway      NOR 2021-01-24             81460.0            79532.0   \n",
       "\n",
       "      people_fully_vaccinated  daily_vaccinations_raw  daily_vaccinations  \\\n",
       "4125                   1753.0                 10737.0              4528.0   \n",
       "4126                   1921.0                  8596.0              4546.0   \n",
       "4127                   1928.0                  3320.0              4382.0   \n",
       "4128                   1928.0                   359.0              4326.0   \n",
       "4129                   1928.0                    67.0              4286.0   \n",
       "\n",
       "      total_vaccinations_per_hundred  people_vaccinated_per_hundred  \\\n",
       "4125                            1.27                           1.24   \n",
       "4126                            1.43                           1.40   \n",
       "4127                            1.49                           1.46   \n",
       "4128                            1.50                           1.47   \n",
       "4129                            1.50                           1.47   \n",
       "\n",
       "      people_fully_vaccinated_per_hundred  daily_vaccinations_per_million  \\\n",
       "4125                                 0.03                           835.0   \n",
       "4126                                 0.04                           839.0   \n",
       "4127                                 0.04                           808.0   \n",
       "4128                                 0.04                           798.0   \n",
       "4129                                 0.04                           791.0   \n",
       "\n",
       "                                          vaccines  \\\n",
       "4125  Moderna, Oxford/AstraZeneca, Pfizer/BioNTech   \n",
       "4126  Moderna, Oxford/AstraZeneca, Pfizer/BioNTech   \n",
       "4127  Moderna, Oxford/AstraZeneca, Pfizer/BioNTech   \n",
       "4128  Moderna, Oxford/AstraZeneca, Pfizer/BioNTech   \n",
       "4129  Moderna, Oxford/AstraZeneca, Pfizer/BioNTech   \n",
       "\n",
       "                               source_name  \\\n",
       "4125  Norwegian Institute of Public Health   \n",
       "4126  Norwegian Institute of Public Health   \n",
       "4127  Norwegian Institute of Public Health   \n",
       "4128  Norwegian Institute of Public Health   \n",
       "4129  Norwegian Institute of Public Health   \n",
       "\n",
       "                                         source_website  \n",
       "4125  https://www.fhi.no/sv/vaksine/koronavaksinasjo...  \n",
       "4126  https://www.fhi.no/sv/vaksine/koronavaksinasjo...  \n",
       "4127  https://www.fhi.no/sv/vaksine/koronavaksinasjo...  \n",
       "4128  https://www.fhi.no/sv/vaksine/koronavaksinasjo...  \n",
       "4129  https://www.fhi.no/sv/vaksine/koronavaksinasjo...  "
      ]
     },
     "execution_count": 163,
     "metadata": {},
     "output_type": "execute_result"
    }
   ],
   "source": [
    "# get data for the remaining contries\n",
    "norway_data = data.loc[data['country']=='Norway'] # Norway\n",
    "china_data = data.loc[data['country']=='China'] # China\n",
    "australia_data = data.loc[data['country']=='Australia'] # Australia\n",
    "norway_data.head()"
   ]
  },
  {
   "cell_type": "code",
   "execution_count": 167,
   "metadata": {},
   "outputs": [],
   "source": [
    "# join the data frames\n",
    "clean_df = pd.concat([australia_data,china_data,norway_data,uk_data,us_data], ignore_index=True)"
   ]
  },
  {
   "cell_type": "code",
   "execution_count": 190,
   "metadata": {},
   "outputs": [],
   "source": [
    "# get total for each country\n",
    "uk_total = clean_df.loc[clean_df['country']=='United Kingdom']['daily_vaccinations'].sum().asType('int')\n",
    "us_total = clean_df.loc[clean_df['country']=='United States']['daily_vaccinations'].sum()\n",
    "norway_total = clean_df.loc[clean_df['country']=='Norway']['daily_vaccinations'].sum()\n",
    "china_total = clean_df.loc[clean_df['country']=='China']['daily_vaccinations'].sum()\n",
    "australia_total = clean_df.loc[clean_df['country']=='Australia']['daily_vaccinations'].sum()"
   ]
  },
  {
   "cell_type": "code",
   "execution_count": 195,
   "metadata": {},
   "outputs": [],
   "source": [
    "# create list of countries and total to create dataframe from\n",
    "country_names = ['United Kingdom','United States','Norway','China','Australia']\n",
    "vaccination_total = [uk_total,us_total,norway_total,china_total,australia_total]"
   ]
  },
  {
   "cell_type": "code",
   "execution_count": 217,
   "metadata": {},
   "outputs": [],
   "source": [
    "# create new dataframe with only country and total\n",
    "df = pd.DataFrame(data={'countries':country_names, 'total_vaccinated':vaccination_total})"
   ]
  },
  {
   "cell_type": "code",
   "execution_count": 236,
   "metadata": {},
   "outputs": [
    {
     "data": {
      "text/html": [
       "<div>\n",
       "<style scoped>\n",
       "    .dataframe tbody tr th:only-of-type {\n",
       "        vertical-align: middle;\n",
       "    }\n",
       "\n",
       "    .dataframe tbody tr th {\n",
       "        vertical-align: top;\n",
       "    }\n",
       "\n",
       "    .dataframe thead th {\n",
       "        text-align: right;\n",
       "    }\n",
       "</style>\n",
       "<table border=\"1\" class=\"dataframe\">\n",
       "  <thead>\n",
       "    <tr style=\"text-align: right;\">\n",
       "      <th></th>\n",
       "      <th>countries</th>\n",
       "      <th>total_vaccinated</th>\n",
       "    </tr>\n",
       "  </thead>\n",
       "  <tbody>\n",
       "    <tr>\n",
       "      <th>4</th>\n",
       "      <td>Australia</td>\n",
       "      <td>0</td>\n",
       "    </tr>\n",
       "    <tr>\n",
       "      <th>3</th>\n",
       "      <td>China</td>\n",
       "      <td>13650069</td>\n",
       "    </tr>\n",
       "    <tr>\n",
       "      <th>2</th>\n",
       "      <td>Norway</td>\n",
       "      <td>86206</td>\n",
       "    </tr>\n",
       "    <tr>\n",
       "      <th>0</th>\n",
       "      <td>United Kingdom</td>\n",
       "      <td>10983503</td>\n",
       "    </tr>\n",
       "    <tr>\n",
       "      <th>1</th>\n",
       "      <td>United States</td>\n",
       "      <td>17466671</td>\n",
       "    </tr>\n",
       "  </tbody>\n",
       "</table>\n",
       "</div>"
      ],
      "text/plain": [
       "        countries  total_vaccinated\n",
       "4       Australia                 0\n",
       "3           China          13650069\n",
       "2          Norway             86206\n",
       "0  United Kingdom          10983503\n",
       "1   United States          17466671"
      ]
     },
     "execution_count": 236,
     "metadata": {},
     "output_type": "execute_result"
    }
   ],
   "source": [
    "# display newly created dataframe\n",
    "df.total_vaccinated = df.total_vaccinated.astype(int)\n",
    "df.sort_values('countries')\n"
   ]
  },
  {
   "cell_type": "code",
   "execution_count": 277,
   "metadata": {},
   "outputs": [
    {
     "data": {
      "text/plain": [
       "(1.0, 20000000.0)"
      ]
     },
     "execution_count": 277,
     "metadata": {},
     "output_type": "execute_result"
    },
    {
     "data": {
      "image/png": "[encoded data removed]",
      "text/plain": [
       "<Figure size 432x288 with 1 Axes>"
      ]
     },
     "metadata": {
      "needs_background": "light"
     },
     "output_type": "display_data"
    }
   ],
   "source": [
    "plt = df.plot(\n",
    "    kind='bar',\n",
    "    x='countries', y='total_vaccinated',\n",
    "    rot=50,\n",
    "    title=\"Total Vaccination 20-01-2021 - 03-02-2021\",\n",
    "    )\n",
    "plt.set_ylabel(\"People vaccinated (M)\")\n",
    "plt.set_yticks([10,100,1000,10000,100000,1000000,10000000,20000000])\n",
    "plt.set_ylim([1,20000000.0])\n"
   ]
  },
  {
   "cell_type": "code",
   "execution_count": null,
   "metadata": {},
   "outputs": [],
   "source": []
  }
 ],
 "metadata": {
  "kernelspec": {
   "display_name": "Python 3",
   "language": "python",
   "name": "python3"
  },
  "language_info": {
   "codemirror_mode": {
    "name": "ipython",
    "version": 3
   },
   "file_extension": ".py",
   "mimetype": "text/x-python",
   "name": "python",
   "nbconvert_exporter": "python",
   "pygments_lexer": "ipython3",
   "version": "3.7.3"
  }
 },
 "nbformat": 4,
 "nbformat_minor": 4
}
